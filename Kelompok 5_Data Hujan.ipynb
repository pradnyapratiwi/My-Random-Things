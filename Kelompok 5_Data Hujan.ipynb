{
 "cells": [
  {
   "cell_type": "markdown",
   "id": "15bf8622",
   "metadata": {},
   "source": [
    "# Kelompok V\n",
    "Anggota Kelompok V : \n",
    "1. Putu Agus Arya Suta (2208541012)\n",
    "2. I Dewa Ayu Pradnya Pratiwi T. (2208541013)\n",
    "3. Ni Putu Dina Agustina (2208541043)\n",
    "\n",
    "Pada project kali ini, kami berkesempatan untuk mengeksplorasi data terkait hujan. "
   ]
  },
  {
   "cell_type": "markdown",
   "id": "8a34a4f6",
   "metadata": {},
   "source": [
    "# Menampilkan Data Hujan"
   ]
  },
  {
   "cell_type": "code",
   "execution_count": null,
   "id": "9c205bf6",
   "metadata": {},
   "outputs": [],
   "source": [
    "#pada bagian pertama eksplorasi data, terlebih dahulu kita akan menampilkan data hujan tersebut\n",
    "#pada bagian ini sebelum kita menampilkan data yang akan kita panggil, kita akan mengimport pandas yang bertujuan untuk memanngil data pandas\n",
    "#serta kita juga akan mengimpor warnings\n",
    "import pandas as pd\n",
    "import warnings\n",
    "warnings.filterwarnings(\"ignore\")\n",
    "\n",
    "#pd.options.display.max_rows ini untuk bertujuan untuk mengatur berapa banyak maksimal baris yang ingin ditampilkan pada notebook\n",
    "#disini kami mengatur tampilan maksimal untuk baris sebanyak 100 saja\n",
    "pd.set_option(\"display.max_columns\", 100)"
   ]
  },
  {
   "cell_type": "code",
   "execution_count": null,
   "id": "14c0d710",
   "metadata": {},
   "outputs": [],
   "source": [
    "#pada bagian ini kita akan menampilkan data pada github account @imdwipayana\n",
    "#diinisialisasikan data csv pada github sebagai data_hujan dengan mencantumkan link github data hujan pada kode\n",
    "data_hujan = pd.read_csv(\"https://raw.githubusercontent.com/imdwipayana/DATA/main/Dataset%20Final%20Project%202023/Hujan/hujan.csv\") \n",
    "#selanjutnya akan dicetak dan dimunculkan data data_hujan yang sebelumnya telah diinisialisasikan\n",
    "data_hujan"
   ]
  },
  {
   "cell_type": "markdown",
   "id": "b3846e31",
   "metadata": {},
   "source": [
    "#Penjelasan Nama Kolom\n",
    "1. Date : Tanggal\n",
    "2. Location : Lokasi/daerah\n",
    "3. MinTemp : Suhu terkecil/terendah (temperatur minimum)\n",
    "4. MaxTemp : Suhu tertinggi (temperatur maksimum)\n",
    "5. Rainfall : Curah hujan\n",
    "6. Evaporation : Evaporasi\n",
    "7. Sunshine : Cahaya matahari\n",
    "8. WindGustDir : Arah hembusan angin\n",
    "9. WindGustSpeed : Kecepatan hembusan angin\n",
    "10. WindDir9am : Arah angin pukul 09.00 pagi\n",
    "11. WindDir3pm : Arah angin pukul 03.00 sore\n",
    "12. WindSpeed9am : Kecepatan angin pukul 09.00 pagi\n",
    "13. WindSpeed3pm : Kecepatan angin pukul 03.00 sore\n",
    "14. Humidity9am : Kelembapan pukul 09.00 pagi\n",
    "15. Humidity3pm : Kelembapan pukul 03.00 sore\n",
    "16. Pressure9am : Tekanan pukul 09.00 pagi\n",
    "17. Pressure3pm : Tekanan pukul 03.00 sore\n",
    "18. Cloud9am : Awan pukul 09.00 pagi \n",
    "19. Cloud3pm : Awan pukul 03.00 sore\n",
    "20. Temp9am  : Temperatur/suhu pukul 09.00 pagi\n",
    "21. Temp3pm  : Temperatur/suhu pukul 03.00 sore\n",
    "22. RainToday : Prediksi hujan hari ini\n",
    "23. RainTomorrow : Prediksi hujan hari esok"
   ]
  },
  {
   "cell_type": "code",
   "execution_count": null,
   "id": "5e3a717f",
   "metadata": {},
   "outputs": [],
   "source": [
    "#pada bagian ini akan ditampilkan tipe-tipe dari setiap data berdasarkan kolom yang ada pada data_hujan\n",
    "#hal ini bertujuan untuk kita mengeskplor dan menganalisis data yang diberikan apakah data tersebut berupa objek ataupun numerik\n",
    "data_hujan.dtypes"
   ]
  },
  {
   "cell_type": "code",
   "execution_count": null,
   "id": "4f8b8a24",
   "metadata": {},
   "outputs": [],
   "source": [
    "#ditampilkan informasi terkait data hujan\n",
    "data_hujan.info()"
   ]
  },
  {
   "cell_type": "markdown",
   "id": "6c57c009",
   "metadata": {},
   "source": [
    "# Memeriksa Data Kosong"
   ]
  },
  {
   "cell_type": "code",
   "execution_count": null,
   "id": "210cfc99",
   "metadata": {},
   "outputs": [],
   "source": [
    "#untuk memudahkan menganalisis data, kita mencoba untuk memeriksa terlebih dahulu apakah terdapat data yang kosong pada masing-masing kolom.\n",
    "#adapun kode untuk mengecek dan menjumlahkan seberapa banyak data yang kosong, yaitu menggunakan isnull dan sum\n",
    "data_hujan.isnull().sum()"
   ]
  },
  {
   "cell_type": "markdown",
   "id": "520b7324",
   "metadata": {},
   "source": [
    "# Mengatasi Data Kosong"
   ]
  },
  {
   "cell_type": "code",
   "execution_count": null,
   "id": "5ad73d3e",
   "metadata": {},
   "outputs": [],
   "source": [
    "#setelah sebelumnya kita mengetahui jumlah data yang kosong pada masing-masing bagian, selanjutnya kita akan mengeleminasi beberapa bagian pada data_hujan\n",
    "#alasan kami mengeliminasi beberapa bagian tersebut karena pada bagian tersebut terdapat data kosong sebanyak lebih dari 50% dari total keseluruhan data\n",
    "#dengan demikian kami memutuskan untuk mengeleminasi bagian tersebut dengan drop\n",
    "#adapun bagian yang akan di drop yakni seperti evaporation, sunshine, cloud9am, dan cloud3pm\n",
    "data_hujan = data_hujan.drop(['Date','Evaporation', 'Sunshine','Cloud9am','Cloud3pm'], axis=1)\n",
    "#selanjutnya akan dicetak kembali data_hujan terbaru yang telah mengalami pembaharuan\n",
    "data_hujan"
   ]
  },
  {
   "cell_type": "code",
   "execution_count": null,
   "id": "b38078f7",
   "metadata": {},
   "outputs": [],
   "source": [
    "#selanjutnya kita kembali mengecek data kosong yang masih terdapat pada data\n",
    "data_hujan.isnull().sum()"
   ]
  },
  {
   "cell_type": "code",
   "execution_count": null,
   "id": "27f82add",
   "metadata": {},
   "outputs": [],
   "source": [
    "#selanjutnya kita melihat berapa data yang kita punya\n",
    "data_hujan.shape"
   ]
  },
  {
   "cell_type": "code",
   "execution_count": null,
   "id": "18ed7bcf",
   "metadata": {},
   "outputs": [],
   "source": [
    "#selanjutnya dari data tersebut masih terdapat data yang kosong, maka kembali kita akan mengeliminasi data menggunakan dropna yaitu mengeliminasi baris yang kosong\n",
    "data_hujan = data_hujan.dropna()\n",
    "#akan ditampilkan kembali data hujan yang kita miliki setelah menghilangkan data yang kosong\n",
    "data_hujan"
   ]
  },
  {
   "cell_type": "code",
   "execution_count": null,
   "id": "81ff880e",
   "metadata": {},
   "outputs": [],
   "source": [
    "#akan dicek kembali ukuran dari data yang kita miliki\n",
    "data_hujan.shape\n",
    "#pada hasil terjadi penurunan jumlah data sebanyak kurang lebih 21% dari jumlah data yang ada"
   ]
  },
  {
   "cell_type": "code",
   "execution_count": null,
   "id": "4c710e02",
   "metadata": {},
   "outputs": [],
   "source": [
    "#memastikan kembali apakah data yang kita memiliki masih mengandung data kosong, maka kita cek kembali menggunakan sintaks isnull dan sum\n",
    "data_hujan.isnull().sum()\n",
    "#didapat bahwa data_hujan sudah tidak mengandung data yang kosong sehingga akan memudahkan untuk analisis dan eksplorasi"
   ]
  },
  {
   "cell_type": "code",
   "execution_count": null,
   "id": "3cfc3148",
   "metadata": {},
   "outputs": [],
   "source": [
    "#akan dicek kembali mengenai tipe data dari masing-masing bagian data_hujan terbaru\n",
    "data_hujan.dtypes"
   ]
  },
  {
   "cell_type": "markdown",
   "id": "7f049724",
   "metadata": {},
   "source": [
    "# Data Train dan Data Test"
   ]
  },
  {
   "cell_type": "code",
   "execution_count": null,
   "id": "f8abd7dd",
   "metadata": {},
   "outputs": [],
   "source": [
    "#akan dimulai untuk eksplorasi data\n",
    "#pada bagian ini kita ingin mengetahui sebaran data pada bagian RainTomorrow menggunakan sintaks unique\n",
    "data_hujan['RainTomorrow'].unique()\n",
    "#didapat hal yang unik dari data tersebut hanya terdiri dari data array No dan Yes dengan jenisnya yakni objek"
   ]
  },
  {
   "cell_type": "code",
   "execution_count": null,
   "id": "0202793f",
   "metadata": {},
   "outputs": [],
   "source": [
    "#karena data pada RainTomorrow berjenis objek, maka data tersebut akan diubah ke data numerik, untuk No = 0 dan Yes = 1\n",
    "data_hujan['RainTomorrow'] = data_hujan['RainTomorrow'].map({'No':0,'Yes':1})"
   ]
  },
  {
   "cell_type": "code",
   "execution_count": null,
   "id": "26c5bf63",
   "metadata": {},
   "outputs": [],
   "source": [
    "#kemudian akan dilakukan proses one hot encode terhadap variabel asli yang ada pada data hujan\n",
    "data_hujan = pd.get_dummies(data_hujan)"
   ]
  },
  {
   "cell_type": "code",
   "execution_count": null,
   "id": "1b0140c9",
   "metadata": {},
   "outputs": [],
   "source": [
    "#pada bagian ini diinisialisasikan variabel x dan y dengan pendefiniiannya sebagai berikut\n",
    "X = data_hujan.drop(['RainTomorrow'],axis=1)\n",
    "y = data_hujan['RainTomorrow']"
   ]
  },
  {
   "cell_type": "code",
   "execution_count": null,
   "id": "5561ff4b",
   "metadata": {},
   "outputs": [],
   "source": [
    "#pada bagian ini akan dilakukan training dan testing data\n",
    "#sebelumnya kita akan menggunakan sklearn yang akan membagi data yang akan di train dan test\n",
    "#serta secara otomatis mengacak data yang akan di train dan test menggunakan split agar data yang diuji mewakili data secara keseluruhan\n",
    "from sklearn.model_selection import train_test_split\n",
    "#kemudian didefinisikan variabel x dan y yang masing-masing akan ditrain serta test dimana besar data yang ditest yakni 20% serta 80% untuk train\n",
    "X_train, X_test, y_train, y_test = train_test_split(X,y,test_size=0.2)"
   ]
  },
  {
   "cell_type": "code",
   "execution_count": null,
   "id": "417d0995",
   "metadata": {},
   "outputs": [],
   "source": [
    "#berikut akan ditampikan untuk variabel x yang ditrain\n",
    "X_train "
   ]
  },
  {
   "cell_type": "code",
   "execution_count": null,
   "id": "20ed20f7",
   "metadata": {},
   "outputs": [],
   "source": [
    "#berikut akan ditampikan untuk variabel x yang ditest\n",
    "X_test"
   ]
  },
  {
   "cell_type": "code",
   "execution_count": null,
   "id": "c3a7c4b5",
   "metadata": {},
   "outputs": [],
   "source": [
    "#berikut akan ditampikan untuk variabel y yang dilatih\n",
    "y_train"
   ]
  },
  {
   "cell_type": "code",
   "execution_count": null,
   "id": "8c1c5964",
   "metadata": {},
   "outputs": [],
   "source": [
    "#Data hujan yang kami miliki berukuran terlalu besar untuk SVM sehingga lebih  baik menggunakan logistic regression"
   ]
  },
  {
   "cell_type": "markdown",
   "id": "dbdb81f8",
   "metadata": {},
   "source": [
    "# Logistic Regression"
   ]
  },
  {
   "cell_type": "code",
   "execution_count": null,
   "id": "701d72d4",
   "metadata": {},
   "outputs": [],
   "source": [
    "#dari data yang dimiliki, dengan menggunakan sklearn akan ditentukan jenis model yang akan digunakan untuk analisis data\n",
    "#model yang kami pilih dan kami rasa sesuai dengan data hujan yakni regresi logistik\n",
    "from sklearn.linear_model import LogisticRegression"
   ]
  },
  {
   "cell_type": "code",
   "execution_count": null,
   "id": "d7d283e5",
   "metadata": {},
   "outputs": [],
   "source": [
    "#didefinisikan model logisticRegression sebagai model_lr\n",
    "model_lr = LogisticRegression()"
   ]
  },
  {
   "cell_type": "code",
   "execution_count": null,
   "id": "86ca9ccc",
   "metadata": {},
   "outputs": [],
   "source": [
    "#bagian ini akan dilakukan pemodelan untuk data tranining yakni x train dan y train\n",
    "model_lr.fit(X_train,y_train)"
   ]
  },
  {
   "cell_type": "code",
   "execution_count": null,
   "id": "f8a80c22",
   "metadata": {},
   "outputs": [],
   "source": [
    "#bagian ini akan dilakukan pemodelan untuk data testing yakni x test dan y test\n",
    "model_lr.score(X_test,y_test)"
   ]
  },
  {
   "cell_type": "markdown",
   "id": "5d199261",
   "metadata": {},
   "source": [
    "# Korelasi"
   ]
  },
  {
   "cell_type": "code",
   "execution_count": null,
   "id": "cf81d3f3",
   "metadata": {},
   "outputs": [],
   "source": [
    "#kembali dicetak data hujan yang telah dimiliki sebelumnya\n",
    "data_hujan"
   ]
  },
  {
   "cell_type": "code",
   "execution_count": null,
   "id": "ef042fa6",
   "metadata": {},
   "outputs": [],
   "source": [
    "#selanjutnya didefinisikan data_hujan1 dengan data terambil beberapa bagian dari data hujan menggunakan indeks\n",
    "data_hujan1 = data_hujan[['MaxTemp','MinTemp','RainToday_No', 'RainToday_Yes']]"
   ]
  },
  {
   "cell_type": "code",
   "execution_count": null,
   "id": "ca242d4d",
   "metadata": {},
   "outputs": [],
   "source": [
    "#akan dicetak data_hujan1 yang sebelumnya telah diinisialisasikan\n",
    "data_hujan1\n",
    "#pada hasil terlihat data terbaru pula ukuran dari data_hujan1"
   ]
  },
  {
   "cell_type": "code",
   "execution_count": null,
   "id": "eaa0633d",
   "metadata": {},
   "outputs": [],
   "source": [
    "#selanjutnya akan ditentukan mengenai korelasi antar tiap bagian pada data hujan 1\n",
    "data_hujan1.corr()\n",
    "#pada hasil terlihat bahwa daerah hasil korelasi yakni berada pada -1 ≤ x ≤ 1\n",
    "#daerah yang menunjukkan hasil menuju atau sama dengan 1 menandakan semakin kuat korelasi positif antar bagian tersebut\n",
    "#sebaliknya dengan kontradiksi apabila hasil menunjukkan nilai menuju atau sama dengan -1 menandakan semakin kuat korelasi negatifnya\n",
    "#dan jika apabila hasil berada pada 0 ini menunjukkan bahwa tiap bagian tersebut tidak memiliki korelasi"
   ]
  },
  {
   "cell_type": "code",
   "execution_count": null,
   "id": "37818851",
   "metadata": {},
   "outputs": [],
   "source": [
    "#karena pada bagian sebelumnya kita telah membuat heatmap dari data_hujan1 namun tidak terdapat angka yang menyatakan besaran dari data tersebut\n",
    "#untuk memudahkan membaca data, kita akan memasukkan angka pada tiap-tiap warna korelasi data_hujan1\n",
    "import matplotlib.pyplot as plt\n",
    "import seaborn as sns\n",
    "fig, ax = plt.subplots(figsize=(9,9))\n",
    "sns.heatmap(data_hujan1.corr(),ax=ax,annot=True)\n",
    "#pada hasil, setelah ditunjukkan korelasinya faktor yang cukup memengaruhi rain today dan rain tomorrow yakni MaxTemp sebesar 0,24\n",
    "#walaupun terdapat hasil korelasi sebesar 1 dan 0,73 namun hubungan yang akan kita cari yakni hanya rain today dan rain tomorrow saja\n",
    "#sehingga kita perlu mengamati hasil korelasi pada bagian rain today dan rain tomorrow saja"
   ]
  },
  {
   "cell_type": "code",
   "execution_count": null,
   "id": "3509a01b",
   "metadata": {},
   "outputs": [],
   "source": [
    "#selanjutnya dengan cara yang sama kita mendefinisikan data_hujan2 dengan bagian lainnya pada data hujan yang akan kembali akan ditunjukkan korelasinya dengan rain today dan rain tomorrow\n",
    "data_hujan2 = data_hujan[['WindGustSpeed', 'WindSpeed9am', 'WindSpeed3pm','RainToday_No', 'RainToday_Yes']]\n",
    "data_hujan2"
   ]
  },
  {
   "cell_type": "code",
   "execution_count": null,
   "id": "6e8ae817",
   "metadata": {},
   "outputs": [],
   "source": [
    "#akan ditunjukkan korelasi dari data_hujan 2\n",
    "data_hujan2.corr()"
   ]
  },
  {
   "cell_type": "code",
   "execution_count": null,
   "id": "ff43cc39",
   "metadata": {},
   "outputs": [],
   "source": [
    "#karena pada bagian sebelumnya kita telah membuat heatmap dari data_hujan2 namun tidak terdapat angka yang menyatakan besaran dari data tersebut\n",
    "#untuk memudahkan membaca data, kita akan memasukkan angka pada tiap-tiap warna korelasi data_hujan2\n",
    "import matplotlib.pyplot as plt\n",
    "fig, ax = plt.subplots(figsize=(9,9))\n",
    "sns.heatmap(data_hujan2.corr(),ax=ax,annot=True)\n",
    "#pada hasil, setelah ditunjukkan korelasinya faktor yang cukup memengaruhi rain today dan rain tomorrow yakni WindGustSpeed (Laju Angin) sebesar 0,15"
   ]
  },
  {
   "cell_type": "code",
   "execution_count": null,
   "id": "a3410c40",
   "metadata": {},
   "outputs": [],
   "source": [
    "#selanjutnya dengan cara yang sama kita mendefinisikan data_hujan3 dengan bagian lainnya pada data hujan yang akan kembali akan ditunjukkan korelasinya dengan rain today dan rain tomorrow\n",
    "data_hujan3 = data_hujan[['Humidity9am', 'Humidity3pm', 'RainToday_No', 'RainToday_Yes']]\n",
    "#akan dicetak data terkait data_hujan3\n",
    "data_hujan3"
   ]
  },
  {
   "cell_type": "code",
   "execution_count": null,
   "id": "de1fc608",
   "metadata": {},
   "outputs": [],
   "source": [
    "#akan ditampilkan korelasi dari masing-masing bagian pada data_hujan3\n",
    "data_hujan3.corr()"
   ]
  },
  {
   "cell_type": "code",
   "execution_count": null,
   "id": "112a799e",
   "metadata": {},
   "outputs": [],
   "source": [
    "#untuk memudahkan membaca data, kita akan memasukkan angka pada tiap-tiap warna korelasi data_hujan3 dengan menggunakan grafik heatmap\n",
    "import matplotlib.pyplot as plt\n",
    "fig, ax = plt.subplots(figsize=(9,9))\n",
    "sns.heatmap(data_hujan3.corr(),ax=ax,annot=True)\n",
    "#pada hasil didapat humidity3pm dan humidity9am memiliki korelasi tinggi dengan rain today dan rain tomorrow masing-masing yakni sebesar 0,39 dan 0,38"
   ]
  },
  {
   "cell_type": "code",
   "execution_count": null,
   "id": "bf1a6e16",
   "metadata": {},
   "outputs": [],
   "source": [
    "#selanjutnya dengan cara yang sama kita mendefinisikan data_hujan4 dengan bagian lainnya pada data hujan yang akan kembali akan ditunjukkan korelasinya dengan rain today dan rain tomorrow\n",
    "#dengan menggunakan indeks diinput mengenai tekanan pada pukul 9 pagi dan pukul 3 sore serta rain today dan rain tomorrow\n",
    "data_hujan4 = data_hujan[['Pressure9am', 'Pressure3pm', 'RainToday_No', 'RainToday_Yes']]\n",
    "#akan dicetak data mengenai data_hujan4\n",
    "data_hujan4"
   ]
  },
  {
   "cell_type": "code",
   "execution_count": null,
   "id": "f7aa8613",
   "metadata": {},
   "outputs": [],
   "source": [
    "#selanjutnya kita akan membuat grafik heatmap serta akan ditampilkan pula korelasi antar bagian pada data_hujan4\n",
    "import matplotlib.pyplot as plt\n",
    "fig, ax = plt.subplots(figsize=(9,9))\n",
    "sns.heatmap(data_hujan4.corr(),ax=ax,annot=True)\n",
    "#pada hasil didapat bahwa yang lebih memiliki korelasi dengan rain today dan rain tomorrow yakni pressure9am sebesar 0,19"
   ]
  },
  {
   "cell_type": "code",
   "execution_count": null,
   "id": "31ac42e7",
   "metadata": {},
   "outputs": [],
   "source": [
    "#kembali diinisialisasikan data_hujan5 dengan data berasal dari data hujan\n",
    "#menggunakan indeks diinput bagian kolom mengenai temperatur pada pukul 9 pagi dan 3 sore serta dilengkapi dengan data rain today dan rain tomorrow \n",
    "data_hujan5 = data_hujan[['Temp9am', 'Temp3pm', 'RainToday_No', 'RainToday_Yes']]\n",
    "#akan dicetak terkait data_hujan5 yang telah diinisialisasikan sebelumnya\n",
    "data_hujan5"
   ]
  },
  {
   "cell_type": "code",
   "execution_count": null,
   "id": "81755d1e",
   "metadata": {},
   "outputs": [],
   "source": [
    "#selanjutnya menggunakan matplotlib, akan dibuat grafik heatmap serta akan ditampilkan pula korelasi antar bagian pada data_hujan5\n",
    "import matplotlib.pyplot as plt\n",
    "fig, ax = plt.subplots(figsize=(9,9))\n",
    "sns.heatmap(data_hujan5.corr(),ax=ax,annot=True)\n",
    "#pada data didapat bahwa temp3pm memiliki korelasi yang cukup dengan rain today dan rain tomorrow yakni sebesar 0,25"
   ]
  },
  {
   "cell_type": "code",
   "execution_count": null,
   "id": "3ac6fd70",
   "metadata": {},
   "outputs": [],
   "source": [
    "#kembali diinisialisasikan data_hujan6 dengan data berasal dari data hujan\n",
    "#menggunakan indeks diinput bagian kolom mengenai maksimal temperatur dan temperatur 3 sore serta dilengkapi dengan data rain today dan rain tomorrow \n",
    "data_hujan6 = data_hujan[['MaxTemp', 'Temp3pm', 'RainToday_No', 'RainToday_Yes']]\n",
    "#akan dicetak terkait data_hujan6 yang telah diinisialisasikan sebelumnya\n",
    "data_hujan6"
   ]
  },
  {
   "cell_type": "code",
   "execution_count": null,
   "id": "c400945f",
   "metadata": {},
   "outputs": [],
   "source": [
    "#akan dicetak korelasi dari data hujan 6 dengan menggunakan sintaks sebagai berikut. \n",
    "data_hujan6.corr()"
   ]
  },
  {
   "cell_type": "code",
   "execution_count": null,
   "id": "a79cb43e",
   "metadata": {},
   "outputs": [],
   "source": [
    "#diinisialisasikan data_hujan7 menggunakan indeks dengan beberapa variabel data yang berasal dari data hujan\n",
    "data_hujan7 = data_hujan[['MaxTemp', 'Temp3pm', 'Humidity9am', 'Humidity3pm' , 'RainToday_No', 'RainToday_Yes']]\n",
    "#akan dicetak terkait data_hujan7 yang telah diinisialisasikan sebelumnya\n",
    "data_hujan7"
   ]
  },
  {
   "cell_type": "code",
   "execution_count": null,
   "id": "01885e6b",
   "metadata": {},
   "outputs": [],
   "source": [
    "#akan dicetak mengenai korelasi antar variabel pada data_hujan7\n",
    "data_hujan7.corr()"
   ]
  },
  {
   "cell_type": "markdown",
   "id": "297c4d92",
   "metadata": {},
   "source": [
    "sehingga berdasarkan analisis data menggunakan korelasi dan regresi logistik didapat bahwa humidity9am, humidity3pm, maxtemp, dan temp3pm menjadi faktor yang utama terjadinya rain today\n",
    "\n",
    "serta menjadi faktor yang cukup kuat untuk menciptakan interpretasi awal terkait rain tomorrow"
   ]
  },
  {
   "cell_type": "markdown",
   "id": "ae9be3ce",
   "metadata": {},
   "source": [
    "# Menghitung korelasi antara kolom \"Max Temperature\" dan \"Kecepatan Angin\""
   ]
  },
  {
   "cell_type": "code",
   "execution_count": null,
   "id": "cffe74e9",
   "metadata": {},
   "outputs": [],
   "source": [
    "#sebelumnya kita telah menentukan korelasi tiap variabel pada data hujan\n",
    "#pada bagian ini kita akan menghitung korelasi beberapa variabel yakni mengenai maksimal temperatur dan kecepatan angin\n",
    "import pandas as pd #mengimpor library pandas\n",
    "import seaborn as sns #mengimpor library seaborn untuk grafik statistik\n",
    "import matplotlib.pyplot as plt #mengimpor matplotlib untuk menciptakan visual data yang lebih menarik"
   ]
  },
  {
   "cell_type": "code",
   "execution_count": null,
   "id": "129c4950",
   "metadata": {},
   "outputs": [],
   "source": [
    "# Pada bagian ini, kita akan menghitung korelasi antara kolom \"Max Temperature\" dan \"Kecepatan Angin\"\n",
    "#didefinisikan correlation dengan indeks korelasi data hujan variabel MaxTemp dan WindSpeed9am\n",
    "correlation = data_hujan['MaxTemp'].corr(data_hujan['WindSpeed9am'])\n",
    "#akan dicetak hasil dari korelasi kedua variabel tersebut\n",
    "print(\"Korelasi antara Max Temperature dan Kecepatan Angin:\", correlation)"
   ]
  },
  {
   "cell_type": "code",
   "execution_count": null,
   "id": "7c72ed6b",
   "metadata": {},
   "outputs": [],
   "source": [
    "# Menentukan apakah ada hujan berdasarkan Max Temperature dan Kecepatan Angin\n",
    "threshold_temp = 30  # Nilai ambang batas temperatur maksimum untuk menentukan ada hujan atau tidak \n",
    "threshold_wind = 20  # Nilai ambang batas kecepatan angin untuk menentukan ada hujan atau tidak\n",
    "#nilai ambang 30 dan 20 dapat dilihat berdasarkan grafik batang dari distribusi Max Temperature dan Kecepatan Angin \n",
    "#dengan Hujan dan Tidak Hujan serta berdasarkan grafik batang dari distribusi kecepatan angin dengan hujan dan tidak hujan"
   ]
  },
  {
   "cell_type": "code",
   "execution_count": null,
   "id": "21eef38b",
   "metadata": {},
   "outputs": [],
   "source": [
    "#akan dibentuk diagram batang korelasi data hujan dengan indikator variabel sebagai berikut.\n",
    "data_hujan['Hujan'] = ((data_hujan['MaxTemp'] > threshold_temp) & (data_hujan['WindSpeed9am'] > threshold_wind))\n",
    "#selanjutnya dengan menggunakan logika matematika, akan dibentuk 2 diagram berbeda yakni bernilai true dan false\n",
    "data_hujan['Hujan'] = data_hujan['Hujan'].map({True: 'Ya', False: 'Tidak'})"
   ]
  },
  {
   "cell_type": "code",
   "execution_count": null,
   "id": "78ede9bc",
   "metadata": {},
   "outputs": [],
   "source": [
    "#Dilakukan analisis visual menggunakan grafik plot titik mengenai korelasi dua variabel yakni MaxTemp dan WindSpeed9am\n",
    "#didefinisikan grafik dengan variabel x diinisialisasikan dengan MaxTemp\n",
    "#variabel y diinisialisasikan dengan WindSpeed9am\n",
    "sns.scatterplot(data=data_hujan, x='MaxTemp', y='WindSpeed9am')\n",
    "#akan diberi judul pada grafik yakni Korelasi Max Temperature dan Kecepatan Angin\n",
    "plt.title('Korelasi Max Temperature dan Kecepatan Angin')\n",
    "#kemudian akan ditampilkan mengenai grafik visual mengenai korelasi kedua variabel tersebut\n",
    "plt.show()"
   ]
  },
  {
   "cell_type": "code",
   "execution_count": null,
   "id": "16ab39d6",
   "metadata": {},
   "outputs": [],
   "source": [
    "#Akan divisualisasikan mengenai distribusi Max Temperature dan Kecepatan Angin dengan Hujan dan Tidak Hujan\n",
    "sns.histplot(data=data_hujan, x='MaxTemp', hue='Hujan', multiple='stack', bins=20)\n",
    "#akan diberi judul untuk grafik yakni Distribusi Max Temperature dengan Hujan dan Tidak Hujan\n",
    "plt.title('Distribusi Max Temperature dengan Hujan dan Tidak Hujan')\n",
    "#selanjutnya akan ditampilkan mengenai grafik tersebut\n",
    "plt.show()"
   ]
  },
  {
   "cell_type": "code",
   "execution_count": null,
   "id": "175a025a",
   "metadata": {},
   "outputs": [],
   "source": [
    "#akan divisualisasikan mengenai distribusi kecepatan angin dengan hujan dan tidak hujan\n",
    "sns.histplot(data=data_hujan, x='WindSpeed9am', hue='Hujan', multiple='stack', bins=20)\n",
    "#akan diberi judul untuk grafik yakni Distribusi Kecepatan Angin dengan Hujan dan Tidak Hujan\n",
    "plt.title('Distribusi Kecepatan Angin dengan Hujan dan Tidak Hujan')\n",
    "#selanjutnya akan ditampilkan mengenai grafik tersebut\n",
    "plt.show()"
   ]
  },
  {
   "cell_type": "code",
   "execution_count": null,
   "id": "8116869f",
   "metadata": {},
   "outputs": [],
   "source": [
    "#Pada bagian ini akan ditampilkan mengenai program prediksi hujan dengan menggunakan data perulangan if else, serta metode input\n",
    "def predict_rain(suhu, kecepatan_angin):\n",
    "    # Menentukan apakah ada hujan berdasarkan Max Temperature dan Kecepatan Angin\n",
    "    threshold_temp = 30  # Nilai ambang batas temperatur maksimum untuk menentukan ada hujan atau tidak\n",
    "    threshold_wind = 20  # Nilai ambang batas kecepatan angin untuk menentukan ada hujan atau tidak\n",
    "\n",
    "    if suhu > threshold_temp and kecepatan_angin > threshold_wind:\n",
    "        return \"Hujan\"\n",
    "    else:\n",
    "        return \"Tidak Hujan\"\n",
    "\n",
    "# Input suhu dan kecepatan angin dari pengguna\n",
    "input_suhu = float(input(\"Masukkan suhu: \"))\n",
    "input_kecepatan_angin = float(input(\"Masukkan kecepatan angin: \"))\n",
    "\n",
    "# Memprediksi apakah hujan atau tidak berdasarkan suhu dan kecepatan angin yang diinput\n",
    "hasil_prediksi = predict_rain(input_suhu, input_kecepatan_angin)\n",
    "print(\"Prediksi: \", hasil_prediksi)"
   ]
  },
  {
   "cell_type": "markdown",
   "id": "bb3d8bbe",
   "metadata": {},
   "source": [
    "# Menghitung korelasi antara kolom \"Max Temperature\" dan \"Temp 3 pm \""
   ]
  },
  {
   "cell_type": "code",
   "execution_count": null,
   "id": "5dd7f299",
   "metadata": {},
   "outputs": [],
   "source": [
    "#akan dibentuk diagram batang korelasi data hujan dengan indikator variabel sebagai berikut.\n",
    "data_hujan['Hujan'] = ((data_hujan['MaxTemp'] > threshold_temp) & (data_hujan['Temp3pm'] > threshold_wind))\n",
    "#selanjutnya dengan menggunakan logika matematika, akan dibentuk 2 diagram berbeda yakni bernilai true dan false\n",
    "data_hujan['Hujan'] = data_hujan['Hujan'].map({True: 'Ya', False: 'Tidak'})"
   ]
  },
  {
   "cell_type": "code",
   "execution_count": null,
   "id": "11ccc918",
   "metadata": {},
   "outputs": [],
   "source": [
    "#akan ditampilkan mengenai distribusi Max Temperature dan Kecepatan Angin dengan Hujan dan Tidak Hujan\n",
    "sns.histplot(data=data_hujan, x='MaxTemp', hue='Hujan', multiple='stack', bins=20)\n",
    "\n",
    "plt.title('Distribusi Max Temperature dengan Hujan dan Tidak Hujan')\n",
    "plt.show()"
   ]
  },
  {
   "cell_type": "code",
   "execution_count": null,
   "id": "2a6b3e2b",
   "metadata": {},
   "outputs": [],
   "source": [
    "#distribusi kecepatan angin dengan hujan dan tidak hujan\n",
    "sns.histplot(data=data_hujan, x='Temp3pm', hue='Hujan', multiple='stack', bins=20)\n",
    "#akan diberi judul untuk grafik yakni Distribusi Temp 3 pm dengan Hujan dan Tidak Hujan\n",
    "plt.title('Distribusi Temp 3 pm dengan Hujan dan Tidak Hujan')\n",
    "#selanjutnya akan ditampilkan mengenai grafik berikut.\n",
    "plt.show()"
   ]
  },
  {
   "cell_type": "code",
   "execution_count": null,
   "id": "ecd32c43",
   "metadata": {},
   "outputs": [],
   "source": [
    "def predict_rain(suhu, temp3pm) :\n",
    "    # Menentukan apakah ada hujan berdasarkan Max Temperature dan Kecepatan Angin\n",
    "    threshold_maxtemp = 30  # Nilai ambang batas temperatur maksimum untuk menentukan ada hujan atau tidak\n",
    "    threshold_temp3pm = 30  # Nilai ambang batas kecepatan angin untuk menentukan ada hujan atau tidak\n",
    "\n",
    "    if suhu > threshold_maxtemp and temp3pm > threshold_temp3pm:\n",
    "        return \"Hujan\"\n",
    "    else:\n",
    "        return \"Tidak Hujan\"\n",
    "\n",
    "# Input suhu dan kecepatan angin dari pengguna\n",
    "input_maxtemp = float(input(\"Masukkan suhu maksimal : \"))\n",
    "input_temp3pm = float(input(\"Masukkan temperatur pukul 15.00 : \"))\n",
    "\n",
    "# Memprediksi apakah hujan atau tidak berdasarkan suhu dan kecepatan angin yang diinput\n",
    "hasil_prediksi = predict_rain(input_maxtemp, input_temp3pm)\n",
    "print(\"Prediksi: \", hasil_prediksi)"
   ]
  },
  {
   "cell_type": "markdown",
   "id": "d6e4858f",
   "metadata": {},
   "source": [
    "# Kesimpulan\n",
    "Berdasarkan program yang telah kami buat, kami ingin menunjukkan bahwa suhu maksimum (MaxTemp) dengan temperatur pada pukul 15.00 (Temp3pm) menunjukkan adanya hubungan korelasi yang kuat. Jika salah satu variabel mengalami kenaikan nilai, maka variabel lainnya pun akan mengalami kenaikan nilai, sehingga apabila nilainya dimasukkan pada program di atas maka dapat diketahui bagaimana kemungkinan adanya hujan pada kasus tersebut.\n",
    "\n",
    "Sekian dan Terima Kasih"
   ]
  },
  {
   "cell_type": "markdown",
   "id": "b1d1c9c6",
   "metadata": {},
   "source": [
    "## Ringkasan Informasi Data yang Sudah Diolah"
   ]
  },
  {
   "cell_type": "code",
   "execution_count": null,
   "id": "669fb004",
   "metadata": {},
   "outputs": [],
   "source": [
    "# awalnya kita drop kolom ini :'Date','Evaporation', 'Sunshine','Cloud9am','Cloud3pm'\n",
    "# jadi kolom ini hilang"
   ]
  },
  {
   "cell_type": "code",
   "execution_count": null,
   "id": "246ed735",
   "metadata": {},
   "outputs": [],
   "source": [
    "# setelah itu langsung menggunakan fungsi drop.na untuk menghilangkan semua data kosong yaitu khususnya data kosong pada kolom sbb. : \n",
    "# MinTemp, MaxTemp, Rainfall, WindGustDir, WindGustSpeed, WindDir9am , WindDir3pm , WindSpeed9am, \n",
    "# WindSpeed3pm, Humidity9am, Humidity3pm, Pressure9am, Pressure3pm, Temp9am, Temp3pm, RainToday, RainTomorrow"
   ]
  },
  {
   "cell_type": "code",
   "execution_count": null,
   "id": "029e4ae9",
   "metadata": {},
   "outputs": [],
   "source": [
    " # yang dicari korelasinya :\n",
    "    #1 : 'MaxTemp','MinTemp','RainToday_No', 'RainToday_Yes\n",
    "    #2 : 'WindGustSpeed', 'WindSpeed9am', 'WindSpeed3pm','RainToday_No', 'RainToday_Yes'\n",
    "    #3 : 'Humidity9am', 'Humidity3pm', 'RainToday_No', 'RainToday_Yes'\n",
    "    #4 : 'Pressure9am', 'Pressure3pm', 'RainToday_No', 'RainToday_Yes'\n",
    "    #5 : 'Temp9am', 'Temp3pm', 'RainToday_No', 'RainToday_Yes'\n",
    "    #6 : 'MaxTemp', 'Temp3pm', 'RainToday_No', 'RainToday_Yes'\n",
    "    #7 : 'MaxTemp', 'Temp3pm', 'Humidity9am', 'Humidity3pm' , 'RainToday_No', 'RainToday_Yes'"
   ]
  },
  {
   "cell_type": "code",
   "execution_count": null,
   "id": "7e04f365",
   "metadata": {},
   "outputs": [],
   "source": [
    "# berdasarkan analisis data menggunakan korelasi dan regresi logistik didapat bahwa :\n",
    "# humidity9am, humidity3pm, maxtemp, dan temp3pm menjadi faktor yang utama terjadinya rain today"
   ]
  },
  {
   "cell_type": "markdown",
   "id": "bd5a9410",
   "metadata": {},
   "source": [
    " # Mengisi Data yang Kosong"
   ]
  },
  {
   "cell_type": "code",
   "execution_count": 1,
   "id": "a71c7612",
   "metadata": {},
   "outputs": [],
   "source": [
    "#karena data yang dicari korelasinya banyak yang kosong, kita mencoba untuk mengisi data yang kosong tersebut yaitu dengan\n",
    "# 1. mean\n",
    "# 2. median\n",
    "# 3. interpolasi\n",
    "# 4. regresi"
   ]
  },
  {
   "cell_type": "markdown",
   "id": "0a497718",
   "metadata": {},
   "source": [
    "## 1. Mean"
   ]
  },
  {
   "cell_type": "code",
   "execution_count": null,
   "id": "7cf503d3",
   "metadata": {},
   "outputs": [],
   "source": []
  }
 ],
 "metadata": {
  "kernelspec": {
   "display_name": "Python 3 (ipykernel)",
   "language": "python",
   "name": "python3"
  },
  "language_info": {
   "codemirror_mode": {
    "name": "ipython",
    "version": 3
   },
   "file_extension": ".py",
   "mimetype": "text/x-python",
   "name": "python",
   "nbconvert_exporter": "python",
   "pygments_lexer": "ipython3",
   "version": "3.9.13"
  }
 },
 "nbformat": 4,
 "nbformat_minor": 5
}
